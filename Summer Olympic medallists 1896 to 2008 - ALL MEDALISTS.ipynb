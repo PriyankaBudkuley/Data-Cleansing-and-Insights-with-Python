{
 "cells": [
  {
   "cell_type": "markdown",
   "metadata": {},
   "source": [
    "# Assignment \\#4 the Olympic dataset 1/2\n",
    "\n",
    "#### Features description\n",
    "- *City*: City\n",
    "- *Edition*: Year\n",
    "- *Sport*: Sport\n",
    "- *Discipline*: Discipline\n",
    "- *Athlete*: Athlete's last name and first name (generally separated by a comma and a space)\n",
    "- *NOC*: Country, National Olympic Committee, ISO 3166-1 alpha-3\n",
    "- *Gender*: Men, Women\n",
    "- *Event*: Event\n",
    "- *Event_gender*: Event gender (F = Women, M = Men, X = NA)\n",
    "- *Medal*: Metal of medal (Bronze, Silver, Gold)"
   ]
  },
  {
   "cell_type": "code",
   "execution_count": 1,
   "metadata": {},
   "outputs": [],
   "source": [
    "# usual import and options\n",
    "import pandas as pd\n",
    "pd.set_option(\"display.max_rows\", 16)"
   ]
  },
  {
   "cell_type": "markdown",
   "metadata": {},
   "source": [
    "### Loading the dataset\n",
    "\n",
    "**file**: `'Summer Olympic medallists 1896 to 2008 - ALL MEDALISTS.txt'`\n",
    "\n",
    "**separator**: tab: `\\t`"
   ]
  },
  {
   "cell_type": "code",
   "execution_count": 2,
   "metadata": {},
   "outputs": [
    {
     "data": {
      "text/html": [
       "<div>\n",
       "<style scoped>\n",
       "    .dataframe tbody tr th:only-of-type {\n",
       "        vertical-align: middle;\n",
       "    }\n",
       "\n",
       "    .dataframe tbody tr th {\n",
       "        vertical-align: top;\n",
       "    }\n",
       "\n",
       "    .dataframe thead th {\n",
       "        text-align: right;\n",
       "    }\n",
       "</style>\n",
       "<table border=\"1\" class=\"dataframe\">\n",
       "  <thead>\n",
       "    <tr style=\"text-align: right;\">\n",
       "      <th></th>\n",
       "      <th>City</th>\n",
       "      <th>Edition</th>\n",
       "      <th>Sport</th>\n",
       "      <th>Discipline</th>\n",
       "      <th>Athlete</th>\n",
       "      <th>NOC</th>\n",
       "      <th>Gender</th>\n",
       "      <th>Event</th>\n",
       "      <th>Event_gender</th>\n",
       "      <th>Medal</th>\n",
       "    </tr>\n",
       "  </thead>\n",
       "  <tbody>\n",
       "    <tr>\n",
       "      <th>0</th>\n",
       "      <td>Athens</td>\n",
       "      <td>1896</td>\n",
       "      <td>Aquatics</td>\n",
       "      <td>Swimming</td>\n",
       "      <td>HAJOS, Alfred</td>\n",
       "      <td>HUN</td>\n",
       "      <td>Men</td>\n",
       "      <td>100m freestyle</td>\n",
       "      <td>M</td>\n",
       "      <td>Gold</td>\n",
       "    </tr>\n",
       "    <tr>\n",
       "      <th>1</th>\n",
       "      <td>Athens</td>\n",
       "      <td>1896</td>\n",
       "      <td>Aquatics</td>\n",
       "      <td>Swimming</td>\n",
       "      <td>HERSCHMANN, Otto</td>\n",
       "      <td>AUT</td>\n",
       "      <td>Men</td>\n",
       "      <td>100m freestyle</td>\n",
       "      <td>M</td>\n",
       "      <td>Silver</td>\n",
       "    </tr>\n",
       "    <tr>\n",
       "      <th>2</th>\n",
       "      <td>Athens</td>\n",
       "      <td>1896</td>\n",
       "      <td>Aquatics</td>\n",
       "      <td>Swimming</td>\n",
       "      <td>DRIVAS, Dimitrios</td>\n",
       "      <td>GRE</td>\n",
       "      <td>Men</td>\n",
       "      <td>100m freestyle for sailors</td>\n",
       "      <td>M</td>\n",
       "      <td>Bronze</td>\n",
       "    </tr>\n",
       "    <tr>\n",
       "      <th>3</th>\n",
       "      <td>Athens</td>\n",
       "      <td>1896</td>\n",
       "      <td>Aquatics</td>\n",
       "      <td>Swimming</td>\n",
       "      <td>MALOKINIS, Ioannis</td>\n",
       "      <td>GRE</td>\n",
       "      <td>Men</td>\n",
       "      <td>100m freestyle for sailors</td>\n",
       "      <td>M</td>\n",
       "      <td>Gold</td>\n",
       "    </tr>\n",
       "    <tr>\n",
       "      <th>4</th>\n",
       "      <td>Athens</td>\n",
       "      <td>1896</td>\n",
       "      <td>Aquatics</td>\n",
       "      <td>Swimming</td>\n",
       "      <td>CHASAPIS, Spiridon</td>\n",
       "      <td>GRE</td>\n",
       "      <td>Men</td>\n",
       "      <td>100m freestyle for sailors</td>\n",
       "      <td>M</td>\n",
       "      <td>Silver</td>\n",
       "    </tr>\n",
       "    <tr>\n",
       "      <th>5</th>\n",
       "      <td>Athens</td>\n",
       "      <td>1896</td>\n",
       "      <td>Aquatics</td>\n",
       "      <td>Swimming</td>\n",
       "      <td>CHOROPHAS, Efstathios</td>\n",
       "      <td>GRE</td>\n",
       "      <td>Men</td>\n",
       "      <td>1200m freestyle</td>\n",
       "      <td>M</td>\n",
       "      <td>Bronze</td>\n",
       "    </tr>\n",
       "    <tr>\n",
       "      <th>6</th>\n",
       "      <td>Athens</td>\n",
       "      <td>1896</td>\n",
       "      <td>Aquatics</td>\n",
       "      <td>Swimming</td>\n",
       "      <td>HAJOS, Alfred</td>\n",
       "      <td>HUN</td>\n",
       "      <td>Men</td>\n",
       "      <td>1200m freestyle</td>\n",
       "      <td>M</td>\n",
       "      <td>Gold</td>\n",
       "    </tr>\n",
       "    <tr>\n",
       "      <th>7</th>\n",
       "      <td>Athens</td>\n",
       "      <td>1896</td>\n",
       "      <td>Aquatics</td>\n",
       "      <td>Swimming</td>\n",
       "      <td>ANDREOU, Joannis</td>\n",
       "      <td>GRE</td>\n",
       "      <td>Men</td>\n",
       "      <td>1200m freestyle</td>\n",
       "      <td>M</td>\n",
       "      <td>Silver</td>\n",
       "    </tr>\n",
       "    <tr>\n",
       "      <th>8</th>\n",
       "      <td>Athens</td>\n",
       "      <td>1896</td>\n",
       "      <td>Aquatics</td>\n",
       "      <td>Swimming</td>\n",
       "      <td>CHOROPHAS, Efstathios</td>\n",
       "      <td>GRE</td>\n",
       "      <td>Men</td>\n",
       "      <td>400m freestyle</td>\n",
       "      <td>M</td>\n",
       "      <td>Bronze</td>\n",
       "    </tr>\n",
       "    <tr>\n",
       "      <th>9</th>\n",
       "      <td>Athens</td>\n",
       "      <td>1896</td>\n",
       "      <td>Aquatics</td>\n",
       "      <td>Swimming</td>\n",
       "      <td>NEUMANN, Paul</td>\n",
       "      <td>AUT</td>\n",
       "      <td>Men</td>\n",
       "      <td>400m freestyle</td>\n",
       "      <td>M</td>\n",
       "      <td>Gold</td>\n",
       "    </tr>\n",
       "  </tbody>\n",
       "</table>\n",
       "</div>"
      ],
      "text/plain": [
       "     City  Edition     Sport Discipline                Athlete  NOC Gender  \\\n",
       "0  Athens     1896  Aquatics   Swimming          HAJOS, Alfred  HUN    Men   \n",
       "1  Athens     1896  Aquatics   Swimming       HERSCHMANN, Otto  AUT    Men   \n",
       "2  Athens     1896  Aquatics   Swimming      DRIVAS, Dimitrios  GRE    Men   \n",
       "3  Athens     1896  Aquatics   Swimming     MALOKINIS, Ioannis  GRE    Men   \n",
       "4  Athens     1896  Aquatics   Swimming     CHASAPIS, Spiridon  GRE    Men   \n",
       "5  Athens     1896  Aquatics   Swimming  CHOROPHAS, Efstathios  GRE    Men   \n",
       "6  Athens     1896  Aquatics   Swimming          HAJOS, Alfred  HUN    Men   \n",
       "7  Athens     1896  Aquatics   Swimming       ANDREOU, Joannis  GRE    Men   \n",
       "8  Athens     1896  Aquatics   Swimming  CHOROPHAS, Efstathios  GRE    Men   \n",
       "9  Athens     1896  Aquatics   Swimming          NEUMANN, Paul  AUT    Men   \n",
       "\n",
       "                        Event Event_gender   Medal  \n",
       "0              100m freestyle            M    Gold  \n",
       "1              100m freestyle            M  Silver  \n",
       "2  100m freestyle for sailors            M  Bronze  \n",
       "3  100m freestyle for sailors            M    Gold  \n",
       "4  100m freestyle for sailors            M  Silver  \n",
       "5             1200m freestyle            M  Bronze  \n",
       "6             1200m freestyle            M    Gold  \n",
       "7             1200m freestyle            M  Silver  \n",
       "8              400m freestyle            M  Bronze  \n",
       "9              400m freestyle            M    Gold  "
      ]
     },
     "execution_count": 2,
     "metadata": {},
     "output_type": "execute_result"
    }
   ],
   "source": [
    "# LOADING THE DATASET\n",
    "# DO NOT CHANGE THIS CELL FOR GRADING\n",
    "# THE DATASET SHOULD BE ALONG WITH THE NOTEBOOK AND THE PYTHON FILE\n",
    "\n",
    "df = pd.read_csv('Summer Olympic medallists 1896 to 2008 - ALL MEDALISTS.txt', sep='\\t')\n",
    "df.head(10)"
   ]
  },
  {
   "cell_type": "markdown",
   "metadata": {},
   "source": [
    "#### Questions\n",
    "\n",
    "1) How many different cities have organized Olympic games?\n",
    "\n",
    "2) How many different editions of Olympic games are in the dataset?\n",
    "\n",
    "3) How many cities have organized more than one edition of Olympic games?\n",
    "\n",
    "4) Which sport distributed the most medals?\n",
    "\n",
    "5) Which discipline distributed the most medals?\n",
    "\n",
    "6) How many gold medals have been distributed?\n",
    "\n",
    "7) Which edition distributed the most silver medals?\n",
    "\n",
    "8) In how many different disciplines did men received medals (°)?\n",
    "\n",
    "9) In how many different disciplines did women received medals (°)?\n",
    "\n",
    "10) How many disciplines are dedicated to women (°)?\n",
    "\n",
    "11) How many countries have won a medal with an event gender equal to 'X'?\n",
    "\n",
    "12) How many countries have won a gold medal with an event gender equal to 'X'?\n",
    "\n",
    "13) How many different countries have an athlete whose surname is 'SCHMIDT' (+)?\n",
    "\n",
    "14) How many different sports have the word 'ball' in their name?\n",
    "\n",
    "15) How many Bronze or Silver medals have been won by any athlete whose surname is 'KIM' (+)?\n",
    "\n",
    "(°) Use the 'Gender' column.\n",
    "\n",
    "(+) Most of athlene's names are in the form: 'SURNAME, Firstname'"
   ]
  },
  {
   "cell_type": "code",
   "execution_count": 3,
   "metadata": {},
   "outputs": [
    {
     "data": {
      "text/plain": [
       "22"
      ]
     },
     "execution_count": 3,
     "metadata": {},
     "output_type": "execute_result"
    }
   ],
   "source": [
    "# 1) How many different cities have organized Olympic games?\n",
    "def exercise_01():\n",
    "    result = df['City'].nunique()\n",
    "    return result\n",
    "\n",
    "# run and check\n",
    "exercise_01()"
   ]
  },
  {
   "cell_type": "code",
   "execution_count": 4,
   "metadata": {},
   "outputs": [
    {
     "data": {
      "text/plain": [
       "26"
      ]
     },
     "execution_count": 4,
     "metadata": {},
     "output_type": "execute_result"
    }
   ],
   "source": [
    "# 2) How many different editions of Olympic games are in the dataset?\n",
    "def exercise_02():\n",
    "    result = df['Edition'].nunique()\n",
    "    return result\n",
    "\n",
    "# run and check\n",
    "exercise_02()"
   ]
  },
  {
   "cell_type": "code",
   "execution_count": 5,
   "metadata": {},
   "outputs": [
    {
     "data": {
      "text/plain": [
       "4"
      ]
     },
     "execution_count": 5,
     "metadata": {},
     "output_type": "execute_result"
    }
   ],
   "source": [
    "# 3) How many cities have organized more than one edition of Olympic games?\n",
    "\n",
    "def exercise_03():\n",
    "    result = (df.groupby('City')['Edition'].nunique()>(1)).sum()\n",
    "    return result\n",
    "\n",
    "# run and check\n",
    "exercise_03()"
   ]
  },
  {
   "cell_type": "code",
   "execution_count": 6,
   "metadata": {},
   "outputs": [
    {
     "data": {
      "text/plain": [
       "'Aquatics'"
      ]
     },
     "execution_count": 6,
     "metadata": {},
     "output_type": "execute_result"
    }
   ],
   "source": [
    "# 4) Which sport distributed the most medals?\n",
    "\n",
    "def exercise_04():\n",
    "    result = (df.groupby('Sport')['Medal'].count()).idxmax()\n",
    "    return result\n",
    "\n",
    "# run and check\n",
    "exercise_04()"
   ]
  },
  {
   "cell_type": "code",
   "execution_count": 7,
   "metadata": {},
   "outputs": [
    {
     "data": {
      "text/plain": [
       "'Athletics'"
      ]
     },
     "execution_count": 7,
     "metadata": {},
     "output_type": "execute_result"
    }
   ],
   "source": [
    "# 5) Which discipline distributed the most medals?\n",
    "\n",
    "def exercise_05():\n",
    "    result = (df.groupby('Discipline')['Medal'].count()).idxmax()\n",
    "    return result\n",
    "\n",
    "# run and check\n",
    "exercise_05()"
   ]
  },
  {
   "cell_type": "code",
   "execution_count": 8,
   "metadata": {},
   "outputs": [
    {
     "data": {
      "text/plain": [
       "9850"
      ]
     },
     "execution_count": 8,
     "metadata": {},
     "output_type": "execute_result"
    }
   ],
   "source": [
    "# 6) How many gold medals have been distributed?\n",
    "\n",
    "def exercise_06():\n",
    "    result = (df['Medal']==\"Gold\").sum()\n",
    "    return result\n",
    "\n",
    "# run and check\n",
    "exercise_06()"
   ]
  },
  {
   "cell_type": "code",
   "execution_count": 9,
   "metadata": {},
   "outputs": [
    {
     "data": {
      "text/plain": [
       "2000"
      ]
     },
     "execution_count": 9,
     "metadata": {},
     "output_type": "execute_result"
    }
   ],
   "source": [
    "# 7) Which edition distributed the most silver medals?\n",
    "\n",
    "def exercise_07():\n",
    "    result = (df.loc[df.Medal == \"Silver\"].groupby('Edition')['Medal'].count()).idxmax()\n",
    "    return result\n",
    "\n",
    "# run and check\n",
    "exercise_07()"
   ]
  },
  {
   "cell_type": "code",
   "execution_count": 10,
   "metadata": {
    "scrolled": true
   },
   "outputs": [
    {
     "data": {
      "text/plain": [
       "53"
      ]
     },
     "execution_count": 10,
     "metadata": {},
     "output_type": "execute_result"
    }
   ],
   "source": [
    "# 8) In how many different disciplines did men received medals (°)?\n",
    "\n",
    "def exercise_08():\n",
    "    result = len(df.loc[df.Gender == \"Men\"].groupby('Discipline')['Medal'].count())\n",
    "    return result\n",
    "\n",
    "# run and check\n",
    "exercise_08()"
   ]
  },
  {
   "cell_type": "code",
   "execution_count": 11,
   "metadata": {},
   "outputs": [
    {
     "data": {
      "text/plain": [
       "40"
      ]
     },
     "execution_count": 11,
     "metadata": {},
     "output_type": "execute_result"
    }
   ],
   "source": [
    "# 9) In how many different disciplines did women received medals (°)?\n",
    "\n",
    "def exercise_09():\n",
    "    result = len(df.loc[df.Gender == \"Women\"].groupby('Discipline')['Medal'].count())\n",
    "    return result\n",
    "\n",
    "# run and check\n",
    "exercise_09()"
   ]
  },
  {
   "cell_type": "code",
   "execution_count": 12,
   "metadata": {},
   "outputs": [
    {
     "data": {
      "text/plain": [
       "3"
      ]
     },
     "execution_count": 12,
     "metadata": {},
     "output_type": "execute_result"
    }
   ],
   "source": [
    "# 10) How many disciplines are dedicated **only** to women (°)?\n",
    "\n",
    "def exercise_10():\n",
    "    Women = set(df.loc[df.Gender == \"Women\"]['Discipline'])\n",
    "    Men = set(df.loc[df.Gender == \"Men\"]['Discipline'])\n",
    "    result = Women-Men \n",
    "    return len(result)\n",
    "\n",
    "# run and check\n",
    "exercise_10()"
   ]
  },
  {
   "cell_type": "code",
   "execution_count": 13,
   "metadata": {},
   "outputs": [
    {
     "data": {
      "text/plain": [
       "49"
      ]
     },
     "execution_count": 13,
     "metadata": {},
     "output_type": "execute_result"
    }
   ],
   "source": [
    "# 11) How many countries have won a medal with an event gender equal to 'X'?\n",
    "\n",
    "def exercise_11():\n",
    "    result = len(df.loc[df.Event_gender == \"X\"].groupby('NOC')['Event_gender'].value_counts())\n",
    "    return result\n",
    "\n",
    "# run and check\n",
    "exercise_11()"
   ]
  },
  {
   "cell_type": "code",
   "execution_count": 14,
   "metadata": {},
   "outputs": [
    {
     "name": "stderr",
     "output_type": "stream",
     "text": [
      "C:\\Users\\Priyanka\\anaconda3\\lib\\site-packages\\ipykernel_launcher.py:4: UserWarning: Boolean Series key will be reindexed to match DataFrame index.\n",
      "  after removing the cwd from sys.path.\n"
     ]
    },
    {
     "data": {
      "text/plain": [
       "33"
      ]
     },
     "execution_count": 14,
     "metadata": {},
     "output_type": "execute_result"
    }
   ],
   "source": [
    "# 12) How many countries have won a gold medal with an event gender equal to 'X'?\n",
    "\n",
    "def exercise_12():\n",
    "    result = len(df.loc[df.Event_gender == \"X\"][df.Medal == \"Gold\"].groupby('NOC')['Medal'].count())\n",
    "    return result\n",
    "\n",
    "# run and check\n",
    "exercise_12()"
   ]
  },
  {
   "cell_type": "code",
   "execution_count": 15,
   "metadata": {},
   "outputs": [
    {
     "data": {
      "text/plain": [
       "11"
      ]
     },
     "execution_count": 15,
     "metadata": {},
     "output_type": "execute_result"
    }
   ],
   "source": [
    "# 13) How many different countries have an athlete whose surname is 'SCHMIDT'?\n",
    "\n",
    "def exercise_13():\n",
    "    result = len(df.loc[df['Athlete'].str.startswith('SCHMIDT')].groupby('NOC')['Athlete'].count())\n",
    "    return result\n",
    "    \n",
    "# run and check\n",
    "exercise_13()"
   ]
  },
  {
   "cell_type": "code",
   "execution_count": 16,
   "metadata": {},
   "outputs": [
    {
     "data": {
      "text/plain": [
       "6"
      ]
     },
     "execution_count": 16,
     "metadata": {},
     "output_type": "execute_result"
    }
   ],
   "source": [
    "# 14) How many different sports have the word 'ball' in their name?\n",
    "\n",
    "def exercise_14():\n",
    "    result = (pd.Series(df['Sport'].unique())).str.contains('ball').sum()\n",
    "    return result\n",
    "\n",
    "# run and check\n",
    "exercise_14()"
   ]
  },
  {
   "cell_type": "code",
   "execution_count": 17,
   "metadata": {},
   "outputs": [
    {
     "data": {
      "text/plain": [
       "78"
      ]
     },
     "execution_count": 17,
     "metadata": {},
     "output_type": "execute_result"
    }
   ],
   "source": [
    "# 15) How many Bronze or Silver medals have been won by any athlete whose surname is 'KIM'?\n",
    "\n",
    "def exercise_15():\n",
    "    result = (pd.Series(df['Athlete'])).str.startswith('KIM,')[df.Medal != \"Gold\"].sum()\n",
    "    return result\n",
    "\n",
    "# run and check\n",
    "exercise_15()"
   ]
  },
  {
   "cell_type": "code",
   "execution_count": 18,
   "metadata": {},
   "outputs": [
    {
     "data": {
      "text/plain": [
       "577"
      ]
     },
     "execution_count": 18,
     "metadata": {},
     "output_type": "execute_result"
    }
   ],
   "source": [
    "# 16) How many different events are in the dataset?\n",
    "\n",
    "def exercise_01():\n",
    "    result = len(df['Event'].drop_duplicates())\n",
    "    return result\n",
    "\n",
    "\n",
    "# run and check\n",
    "exercise_01()"
   ]
  },
  {
   "cell_type": "code",
   "execution_count": 19,
   "metadata": {},
   "outputs": [
    {
     "data": {
      "text/plain": [
       "430"
      ]
     },
     "execution_count": 19,
     "metadata": {},
     "output_type": "execute_result"
    }
   ],
   "source": [
    "# 17) How many different events including numbers in their description are in the dataset?\n",
    "\n",
    "def exercise_02():\n",
    "    result = pd.Series(df.iloc[:,7].unique()).str.contains(\"\\d\").sum()\n",
    "    return result\n",
    "\n",
    "# run and check\n",
    "exercise_02()"
   ]
  },
  {
   "cell_type": "code",
   "execution_count": 20,
   "metadata": {},
   "outputs": [
    {
     "data": {
      "text/plain": [
       "'SZIVOS, Istvan'"
      ]
     },
     "execution_count": 20,
     "metadata": {},
     "output_type": "execute_result"
    }
   ],
   "source": [
    "# 18) Which athlete has participated in the most editions?\n",
    "\n",
    "def exercise_03():\n",
    "    result = (df.groupby('Athlete')['Edition'].nunique()).idxmax()\n",
    "    return result\n",
    "\n",
    "# run and check\n",
    "exercise_03()"
   ]
  },
  {
   "cell_type": "code",
   "execution_count": 21,
   "metadata": {},
   "outputs": [
    {
     "data": {
      "text/plain": [
       "7"
      ]
     },
     "execution_count": 21,
     "metadata": {},
     "output_type": "execute_result"
    }
   ],
   "source": [
    "# 19) How many sports distributed exactly the same number of Gold, Silver and Bronze medals?\n",
    "\n",
    "def exercise_04():\n",
    "    Medalcount = pd.crosstab(df['Sport'], df['Medal'])\n",
    "    result = len(Medalcount.loc[ (Medalcount['Gold']==Medalcount['Silver']) & (Medalcount['Silver']==Medalcount['Bronze'])])\n",
    "    return result\n",
    "    \n",
    "# run and check\n",
    "exercise_04()"
   ]
  },
  {
   "cell_type": "code",
   "execution_count": 22,
   "metadata": {},
   "outputs": [
    {
     "data": {
      "text/plain": [
       "253"
      ]
     },
     "execution_count": 22,
     "metadata": {},
     "output_type": "execute_result"
    }
   ],
   "source": [
    "# 20) How many athletes received strictly more Gold medals than Silver and strictly more Silver medals than Bronze?\n",
    "\n",
    "def exercise_05():\n",
    "    Medalcount = pd.crosstab(df['Athlete'], df['Medal'])\n",
    "    result = len(Medalcount.loc[ (Medalcount['Gold']>Medalcount['Silver']) & (Medalcount['Silver']>Medalcount['Bronze'])])\n",
    "    return result\n",
    "\n",
    "# run and check\n",
    "exercise_05()"
   ]
  },
  {
   "cell_type": "code",
   "execution_count": 23,
   "metadata": {},
   "outputs": [
    {
     "data": {
      "text/plain": [
       "'GBR'"
      ]
     },
     "execution_count": 23,
     "metadata": {},
     "output_type": "execute_result"
    }
   ],
   "source": [
    "# 21) Which country has won at least one medal in each olympic edition?\n",
    "\n",
    "def exercise_06():\n",
    "    result=(df.pivot_table(index =\"Medal\", columns =\"NOC\", values =\"Edition\", aggfunc =\"nunique\").sum().sort_values()).index[-1]\n",
    "    return result\n",
    "\n",
    "# run and check\n",
    "exercise_06()"
   ]
  },
  {
   "cell_type": "code",
   "execution_count": 24,
   "metadata": {},
   "outputs": [
    {
     "data": {
      "text/plain": [
       "58593"
      ]
     },
     "execution_count": 24,
     "metadata": {},
     "output_type": "execute_result"
    }
   ],
   "source": [
    "# 22) What is the total sum of scores?\n",
    "\n",
    "def exercise_07():\n",
    "    df['score'] = (((df['Medal']==\"Gold\") * 3) + ((df['Medal']==\"Silver\") * 2) + ((df['Medal']==\"Bronze\") * 1))\n",
    "    result = df['score'].sum()\n",
    "    return result\n",
    "\n",
    "# run and check\n",
    "exercise_07()"
   ]
  },
  {
   "cell_type": "code",
   "execution_count": 25,
   "metadata": {},
   "outputs": [
    {
     "data": {
      "text/plain": [
       "'PHELPS, Michael'"
      ]
     },
     "execution_count": 25,
     "metadata": {},
     "output_type": "execute_result"
    }
   ],
   "source": [
    "# 23) Which athlete has the largest sum of scores?\n",
    "\n",
    "def exercise_08():\n",
    "    result = df.groupby('Athlete')['score'].sum().idxmax()\n",
    "    return result\n",
    "\n",
    "# run and check\n",
    "exercise_08()"
   ]
  },
  {
   "cell_type": "code",
   "execution_count": 26,
   "metadata": {},
   "outputs": [
    {
     "data": {
      "text/plain": [
       "'LATYNINA, Larisa'"
      ]
     },
     "execution_count": 26,
     "metadata": {},
     "output_type": "execute_result"
    }
   ],
   "source": [
    "# 24) Which woman athlete has the largest sum of scores (°)?\n",
    "\n",
    "def exercise_09():\n",
    "    result = df.loc[df.Gender == \"Women\"].groupby('Athlete')['score'].sum().idxmax()\n",
    "    return result\n",
    "\n",
    "# run and check\n",
    "exercise_09()"
   ]
  },
  {
   "cell_type": "code",
   "execution_count": 27,
   "metadata": {},
   "outputs": [
    {
     "data": {
      "text/plain": [
       "9773"
      ]
     },
     "execution_count": 27,
     "metadata": {},
     "output_type": "execute_result"
    }
   ],
   "source": [
    "# 25) How many different first names are in the dataset?\n",
    "\n",
    "def exercise_13():\n",
    "    df_new = df.Athlete.str.split(\",\", n=1, expand=True)\n",
    "    df['Firstname'] = df_new[1]\n",
    "    df['Firstname'] =df['Firstname'].str.strip('.,')\n",
    "    result=len(df['Firstname'].value_counts())\n",
    "    \n",
    "    return result\n",
    "\n",
    "# run and check\n",
    "exercise_13()"
   ]
  }
 ],
 "metadata": {
  "kernelspec": {
   "display_name": "Python 3",
   "language": "python",
   "name": "python3"
  },
  "language_info": {
   "codemirror_mode": {
    "name": "ipython",
    "version": 3
   },
   "file_extension": ".py",
   "mimetype": "text/x-python",
   "name": "python",
   "nbconvert_exporter": "python",
   "pygments_lexer": "ipython3",
   "version": "3.7.6"
  }
 },
 "nbformat": 4,
 "nbformat_minor": 2
}
